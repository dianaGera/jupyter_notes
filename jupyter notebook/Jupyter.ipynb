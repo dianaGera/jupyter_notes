{
 "cells": [
  {
   "cell_type": "markdown",
   "id": "0473ff5e",
   "metadata": {},
   "source": [
    "# Anaconda, Conda and Jupyter NoteBook"
   ]
  },
  {
   "cell_type": "markdown",
   "id": "ebfb5879",
   "metadata": {},
   "source": [
    "Anaconda is a distribution of the Python and R for scientific computation. This makes simplistic package management and deployment. Anaconda come up with default data-science packages.\n"
   ]
  },
  {
   "cell_type": "markdown",
   "id": "f7398baf",
   "metadata": {},
   "source": [
    "Package versions in Anaconda are managed by the package management system conda. This package was spun out as a separate open-source package as it ended up being ueful on its own. There is also a small, bootstrap version of Anaconda called Miniconda, which includes only conda, Python, the packages they depend on and other small packages "
   ]
  },
  {
   "cell_type": "markdown",
   "id": "42a1e54f",
   "metadata": {},
   "source": [
    "To install Anaconda go to official site and choose suitable for our system installer. If you are using Linux operation system then, after after the installation completed open terminal and run:"
   ]
  },
  {
   "cell_type": "code",
   "execution_count": null,
   "id": "6f11c9ee",
   "metadata": {},
   "outputs": [],
   "source": [
    "bash Anaconda3-2020.02-Linux-x86_64.sh"
   ]
  },
  {
   "cell_type": "markdown",
   "id": "5ac21e24",
   "metadata": {},
   "source": []
  },
  {
   "cell_type": "markdown",
   "id": "3c1afb74",
   "metadata": {},
   "source": [
    "In order to run Anaconda it is needed to activate virtual manager conda run:"
   ]
  },
  {
   "cell_type": "code",
   "execution_count": null,
   "id": "e861e541",
   "metadata": {},
   "outputs": [],
   "source": [
    "source anaconda3/bin/activate"
   ]
  },
  {
   "cell_type": "markdown",
   "id": "1aa072e8",
   "metadata": {},
   "source": []
  },
  {
   "cell_type": "markdown",
   "id": "0c5d66fb",
   "metadata": {},
   "source": [
    "Check all installed packages:"
   ]
  },
  {
   "cell_type": "code",
   "execution_count": null,
   "id": "6603a13a",
   "metadata": {},
   "outputs": [],
   "source": [
    "conda list"
   ]
  },
  {
   "cell_type": "markdown",
   "id": "d0ca30f3",
   "metadata": {},
   "source": []
  },
  {
   "cell_type": "markdown",
   "id": "7373ce08",
   "metadata": {},
   "source": [
    "View all available virtual environments:"
   ]
  },
  {
   "cell_type": "code",
   "execution_count": null,
   "id": "7f5666f8",
   "metadata": {},
   "outputs": [],
   "source": [
    "conda env list"
   ]
  },
  {
   "cell_type": "markdown",
   "id": "174dda48",
   "metadata": {},
   "source": [
    "Create and activate new virtual environment:"
   ]
  },
  {
   "cell_type": "code",
   "execution_count": null,
   "id": "48ffc619",
   "metadata": {},
   "outputs": [],
   "source": [
    "conda create --name env_name python=version\n",
    "conda activate env_name"
   ]
  },
  {
   "cell_type": "code",
   "execution_count": null,
   "id": "fc7a87b0",
   "metadata": {},
   "outputs": [],
   "source": []
  },
  {
   "cell_type": "markdown",
   "id": "e17e5622",
   "metadata": {},
   "source": [
    "In order to remove some environment use:"
   ]
  },
  {
   "cell_type": "code",
   "execution_count": null,
   "id": "737613d5",
   "metadata": {},
   "outputs": [],
   "source": [
    "conda env remove -n ENV_NAME"
   ]
  },
  {
   "cell_type": "code",
   "execution_count": null,
   "id": "7f647a69",
   "metadata": {},
   "outputs": [],
   "source": []
  },
  {
   "cell_type": "markdown",
   "id": "5a58b1a7",
   "metadata": {},
   "source": [
    "To search for the packages use:"
   ]
  },
  {
   "cell_type": "code",
   "execution_count": null,
   "id": "a7cb0211",
   "metadata": {},
   "outputs": [],
   "source": [
    "conda search -f <package_name>"
   ]
  },
  {
   "cell_type": "code",
   "execution_count": null,
   "id": "165c7ddc",
   "metadata": {},
   "outputs": [],
   "source": []
  },
  {
   "cell_type": "code",
   "execution_count": null,
   "id": "c627903c",
   "metadata": {},
   "outputs": [],
   "source": []
  },
  {
   "cell_type": "markdown",
   "id": "548faf95",
   "metadata": {},
   "source": [
    "Package manager conda gives default source (channel) from which it finds packages. You can expand the range of channels by installing them manually or using as it needed. For example Conda-forge is a community effort that provides conda packages for a wide range of software. Or there is a wide range of users custom channels."
   ]
  },
  {
   "cell_type": "markdown",
   "id": "7579aba7",
   "metadata": {},
   "source": [
    "Here is an example of how to use channels:"
   ]
  },
  {
   "cell_type": "code",
   "execution_count": null,
   "id": "9b7092aa",
   "metadata": {},
   "outputs": [],
   "source": [
    "conda config --add channels conda-forge\n",
    "#conda config --set channel_priority strict\n",
    "conda install <package-name>\n",
    "\n",
    "conda install -c channel_name <package>"
   ]
  }
 ],
 "metadata": {
  "kernelspec": {
   "display_name": "Python 3 (ipykernel)",
   "language": "python",
   "name": "python3"
  },
  "language_info": {
   "codemirror_mode": {
    "name": "ipython",
    "version": 3
   },
   "file_extension": ".py",
   "mimetype": "text/x-python",
   "name": "python",
   "nbconvert_exporter": "python",
   "pygments_lexer": "ipython3",
   "version": "3.9.7"
  }
 },
 "nbformat": 4,
 "nbformat_minor": 5
}
