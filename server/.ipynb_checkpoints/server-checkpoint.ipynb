{
 "cells": [
  {
   "cell_type": "markdown",
   "id": "1ae97b9c",
   "metadata": {},
   "source": [
    "<h1>Create your own mini-Framework. Socket and Routing</h1>"
   ]
  },
  {
   "cell_type": "markdown",
   "id": "c72e720f",
   "metadata": {},
   "source": [
    "In this lesson I will create web-application with my own server that will be able to handle HTTP request and will response with appropriate response code. Implement simple routing and view functions"
   ]
  },
  {
   "cell_type": "markdown",
   "id": "bee24610",
   "metadata": {},
   "source": [
    "In order to start I will use **socket** package that is very useful to handle user's requests"
   ]
  },
  {
   "cell_type": "code",
   "execution_count": null,
   "id": "5c3f24d1",
   "metadata": {},
   "outputs": [],
   "source": [
    "#main.py\n",
    "\n",
    "import socket\n",
    "\n",
    "def run():\n",
    "    pass\n",
    "\n",
    "if __name__ == '__main__':\n",
    "    run()"
   ]
  },
  {
   "cell_type": "markdown",
   "id": "6e28b4fb",
   "metadata": {},
   "source": [
    "Firstly we need to specify our main file. When the interpreter runs a module, the __name__ variable will be set as  __main__ if the module that is being run is the main program.<br>\n",
    "\n",
    "But if the code is importing the module from another module, then the __name__  variable will be set to that module’s name. "
   ]
  },
  {
   "cell_type": "markdown",
   "id": "807e4f90",
   "metadata": {},
   "source": [
    "Next let's create subject that will receive all requests.To do that, it is needed to refer to the **socket** model, call **socket** function and put the arguments. Since we will set our connection by IP/TCP protocol I will specify **socket** global variable **AF_INET** the Address Family and IP protocol. Next argument is TSP. <br>\n",
    "Than it is needed to bind this subject with address and port"
   ]
  },
  {
   "cell_type": "code",
   "execution_count": null,
   "id": "de9880de",
   "metadata": {},
   "outputs": [],
   "source": [
    "def run():\n",
    "    server_socket = socket.socket(socket.AF_INET, socket.SOCK_STREAM)\n",
    "    server_socket.setsockopt(socket.SOL_SOCKET, socket.SO_REUSEADDR, 1)\n",
    "    server_socket.bind(('localhost', '8000'))\n",
    "    server_socket.listen()"
   ]
  },
  {
   "cell_type": "markdown",
   "id": "5190f9a0",
   "metadata": {},
   "source": [
    "Now our server is waiting and listen for requests by the address **localhost://8000** "
   ]
  },
  {
   "cell_type": "markdown",
   "id": "0143efd0",
   "metadata": {},
   "source": [
    "Next we gonna run infinity cycle for our session, where we will define two variables where will store client socket and address - user request. Also we gonna response with simply \"Hello World\" sentence. Notice that, socket does not response while connection is open"
   ]
  },
  {
   "cell_type": "code",
   "execution_count": null,
   "id": "4f440d07",
   "metadata": {},
   "outputs": [],
   "source": [
    "def run():\n",
    "    \n",
    "    ...\n",
    "    \n",
    "    while True:\n",
    "        client_socket, address = server_socket.accept()\n",
    "        request = client_socket.recv(1024)\n",
    "        print(request.decode('utf-8'))\n",
    "        print(address)\n",
    "\n",
    "        client_socket.sendall('Hello World'.encode())\n",
    "        client_socket.close()"
   ]
  },
  {
   "cell_type": "markdown",
   "id": "3b65adb9",
   "metadata": {},
   "source": [
    "Now lets create view function that will response to user requests. Firstly we will create function that will parse response"
   ]
  },
  {
   "cell_type": "code",
   "execution_count": null,
   "id": "202a1a89",
   "metadata": {},
   "outputs": [],
   "source": [
    "def run():\n",
    "    \n",
    "    ...\n",
    "    \n",
    "    while True:\n",
    "        client_socket, address = server_socket.accept()\n",
    "        request = client_socket.recv(1024)\n",
    "        \n",
    "        response = generate_response(request.decode('utf-8'))    #<--- add here"
   ]
  },
  {
   "cell_type": "markdown",
   "id": "980fd2e3",
   "metadata": {},
   "source": [
    "Firstly this function has to parse our request in order to get request **method** and which **URL** is requested<br>\n",
    "Secondly we need to generate response function, that should contain header with status code. This function will take **method** and **URL**, as parameters. So, if method or address was wrong, then we will rise appropriate exception<br>\n",
    "Also, we should to create a global dictionary with all allowed URLS<br>\n",
    "And finally we will write function that will generate HTML body. That function will receive **code** and **URL** address as parameters"
   ]
  },
  {
   "cell_type": "code",
   "execution_count": null,
   "id": "0bbaab15",
   "metadata": {},
   "outputs": [],
   "source": [
    "def generate_response(request):\n",
    "    method, url = parse_request(request)\n",
    "    headers, status_code = generate_headers(method, url)\n",
    "    body = generate_body()"
   ]
  },
  {
   "cell_type": "markdown",
   "id": "ef9159d8",
   "metadata": {},
   "source": [
    "1. Here is a function that returns request method and URL"
   ]
  },
  {
   "cell_type": "code",
   "execution_count": null,
   "id": "081e70e9",
   "metadata": {},
   "outputs": [],
   "source": [
    "def parse_request(request):\n",
    "    parsed = request.split(' ')\n",
    "    method = parsed[0]\n",
    "    url = parsed[1]\n",
    "    return (method, url)"
   ]
  },
  {
   "cell_type": "markdown",
   "id": "fc6aa74f",
   "metadata": {},
   "source": [
    "2. Function that generate headers:"
   ]
  },
  {
   "cell_type": "code",
   "execution_count": null,
   "id": "c0779ddd",
   "metadata": {},
   "outputs": [],
   "source": [
    "def generate_headers:\n",
    "    if method != 'GET':\n",
    "        return 'HTTP/1.1 405 Method not allowed\\n\\n', 405\n",
    "    if url not in  URLS:\n",
    "        return 'HTTP/1.1 404 Not Found\\n\\n', 404\n",
    "    return 'HTTP/1.1 200 OK\\n\\n', 200"
   ]
  },
  {
   "cell_type": "markdown",
   "id": "65b0f2a4",
   "metadata": {},
   "source": [
    "3. URLS list"
   ]
  },
  {
   "cell_type": "code",
   "execution_count": null,
   "id": "0009fdfa",
   "metadata": {},
   "outputs": [],
   "source": [
    "URLS = {\n",
    "    '/': 'home'\n",
    "    '/blog': 'Hello World'\n",
    "}"
   ]
  },
  {
   "cell_type": "markdown",
   "id": "9d168591",
   "metadata": {},
   "source": [
    "4. Function that will generate body"
   ]
  },
  {
   "cell_type": "code",
   "execution_count": null,
   "id": "4b134aa9",
   "metadata": {},
   "outputs": [],
   "source": [
    "def generate_body(status_code, url):\n",
    "    if status_code == 405:\n",
    "        return '<h1>405</h1><h3>Method not allowed</h3>'\n",
    "    if status_code == 404:\n",
    "        return '<h1>404</h1><h3>Not Found</h3>'\n",
    "    return '<h1>{}</h1>'.format(URLS[url])"
   ]
  },
  {
   "cell_type": "markdown",
   "id": "82259b38",
   "metadata": {},
   "source": [
    "Now we are ready to write a return statements for **generate_response** function.<br> \n",
    "Also we will change a a little a socket **sendall** parameter, for now it should take this return"
   ]
  },
  {
   "cell_type": "code",
   "execution_count": null,
   "id": "c71405c7",
   "metadata": {},
   "outputs": [],
   "source": [
    "def generate_response(request):\n",
    "    ...\n",
    "    return (headers + body).encode()\n",
    "\n",
    "def run():\n",
    "    ...\n",
    "    while True:\n",
    "        ...\n",
    "        response = generate_response(request)\n",
    "        client_socket.sendall(response)"
   ]
  },
  {
   "cell_type": "markdown",
   "id": "a5fac48b",
   "metadata": {},
   "source": [
    "<h3>Views</h3>"
   ]
  },
  {
   "cell_type": "markdown",
   "id": "7c68d8f4",
   "metadata": {},
   "source": [
    "Now we are going to create view function and templates. So let's just create a new directory **templates** and some HTML files in it. In my case it will be home.html and blog.html. Create some content and save.<br>\n",
    "Next create new file **views.py** in main directory. Here we will write functions, that will open our html files"
   ]
  },
  {
   "cell_type": "code",
   "execution_count": null,
   "id": "cadfd6d2",
   "metadata": {},
   "outputs": [],
   "source": [
    "def index():\n",
    "    with open('templates/home.html') as file:\n",
    "        return file.read()\n",
    "\n",
    "\n",
    "def blog():\n",
    "    with open('templates/blog.html') as file:\n",
    "        return file.read()\n",
    "\n",
    "\n",
    "def error404():\n",
    "    with open('templates/error/error404.html') as file:\n",
    "        return file.read()\n",
    "    \n",
    "    \n",
    "def error405():\n",
    "    with open('templates/error/error405.html') as file:\n",
    "        return file.read()"
   ]
  },
  {
   "cell_type": "markdown",
   "id": "afbed47e",
   "metadata": {},
   "source": [
    "So, now import this functions and just replace a values in URLS dictionary with them "
   ]
  },
  {
   "cell_type": "code",
   "execution_count": null,
   "id": "0b628557",
   "metadata": {},
   "outputs": [],
   "source": [
    "\n",
    "URLS = {\n",
    "    '/': index,\n",
    "    '/blog': blog\n",
    "}"
   ]
  },
  {
   "cell_type": "markdown",
   "id": "86bd0827",
   "metadata": {},
   "source": [
    "Depending on which error would be we will return error.html"
   ]
  },
  {
   "cell_type": "markdown",
   "id": "9868a20d",
   "metadata": {},
   "source": [
    "Now let's change **generate_body** function"
   ]
  },
  {
   "cell_type": "code",
   "execution_count": null,
   "id": "8568d3f7",
   "metadata": {},
   "outputs": [],
   "source": [
    "def generate_body(status_code, url):\n",
    "    if status_code == 405:\n",
    "#         return '<h1>405</h1><h3>Method not allowed</h3>'\n",
    "        return error405()\n",
    "    if status_code == 404:\n",
    "#         return '<h1>404</h1><h3>Not Found</h3>'\n",
    "        return error404()\n",
    "    return URLS[url]()"
   ]
  }
 ],
 "metadata": {
  "kernelspec": {
   "display_name": "Python 3 (ipykernel)",
   "language": "python",
   "name": "python3"
  },
  "language_info": {
   "codemirror_mode": {
    "name": "ipython",
    "version": 3
   },
   "file_extension": ".py",
   "mimetype": "text/x-python",
   "name": "python",
   "nbconvert_exporter": "python",
   "pygments_lexer": "ipython3",
   "version": "3.9.7"
  }
 },
 "nbformat": 4,
 "nbformat_minor": 5
}
