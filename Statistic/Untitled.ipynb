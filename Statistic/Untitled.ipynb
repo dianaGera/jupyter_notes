{
 "cells": [
  {
   "cell_type": "markdown",
   "id": "c9e9d73d",
   "metadata": {},
   "source": [
    "<h1>Comparison of averages</h1>\n",
    "<h2>Student's t-distribution</h2>\n",
    "<p>If the quantity of sample is less then 30 and general mean is not defined, it is used <b>Student's t-distribution</b> in order to describe how the behavior of all of sample means</p>\n",
    "<p>The <b>t-distribution</b> describes the standardized distances of sample means to the population mean when the population standard deviation is not known, and the observations come from a normally distributed population.</p>\n",
    "<p>A t-distribution is defined by one parameter, that is, <b>degrees of freedom</b> (df = n - 1). With increase of df (that means increase quantity of samples) value the distribution tends to normal</p>\n",
    "<img src='img/t-distr.webp' style='width: 400px'>\n",
    "<img src='https://www.gstatic.com/education/formulas2/443397389/en/student_s_t_distribution.svg'>\n",
    "<p style='text-align: center'>\n",
    "t\t=\tStudent's t-distribution<br>\n",
    "x\t=\tsample mean<br>\n",
    "mu\t=\tpopulation mean<br>\n",
    "s\t=\tsample standard deviation<br>\n",
    "n\t=\tsample size</p>\n",
    "<img src='img/t-table.png' style='width: 600px'>\n"
   ]
  },
  {
   "cell_type": "code",
   "execution_count": 1,
   "id": "c421d676",
   "metadata": {
    "scrolled": true
   },
   "outputs": [
    {
     "name": "stdout",
     "output_type": "stream",
     "text": [
      "0.0569398499365914\n",
      "0.045500263896358195\n",
      "0.06528795288911197\n"
     ]
    }
   ],
   "source": [
    "# Lets imagine we have some sample with:\n",
    "import scipy.stats as st\n",
    "import numpy as np\n",
    "length = 25\n",
    "std = 2\n",
    "mn = 10.8\n",
    "\n",
    "# and we know that in general variance the mean is:\n",
    "g_mean = 10\n",
    "\n",
    "# Commonly we could cumpute the standard error firslty, \n",
    "# and then compute how far away our mean deviate\n",
    "# from general mean using the z-score \n",
    "\n",
    "se = std/(length**0.5)     # 0.4\n",
    "\n",
    "z = (mn-g_mean)/se           # 2 quantity of std\n",
    "# It means that we get deviation from supposed mean \n",
    "# by 2 standart deviation on right side\n",
    "\n",
    "# So now lets compute the probability of getting such or\n",
    "# more expressive deviation\n",
    "\n",
    "df = length - 1            # quantity degree of freedom\n",
    "\n",
    "print(2*(1-st.t.cdf(z, df))) # по t-распределению\n",
    "print(2*(1-st.norm.cdf(z))) # по нормальному распределению\n",
    "\n",
    "\n",
    "#Если на выборке в 15 наблюдений при помощи одновыборочного \n",
    "#t-теста проверяется нулевая гипотеза: \\mu=10μ=10 \n",
    "#и рассчитанное t-значение равняется -2 (t = -2), \n",
    "#то p-уровень значимости  (двусторонний) равен:\n",
    "\n",
    "n = 15 #наблюдений в выборке\n",
    "tt = -2 # t-значение\n",
    "\n",
    "pval = st.t.sf(np.abs(tt), n-1)*2\n",
    "print(pval)"
   ]
  },
  {
   "cell_type": "markdown",
   "id": "6f21f85b",
   "metadata": {},
   "source": [
    "<h2>Student's t-test</h2>\n",
    "<p><b>Student's t-test</b>, in statistics, a method of testing hypotheses about the mean of a small sample drawn from a normally distributed population when the population standard deviation is unknown.</p>\n",
    "<p>If we are tasting two samples, then in order to compute t-value use this formula (Mu - Mu1 is always 0, as we compare the H0)</p>\n",
    "<img src='img/t-test.jpg' style='width: 400px'>"
   ]
  },
  {
   "cell_type": "code",
   "execution_count": 36,
   "id": "7eac3020",
   "metadata": {},
   "outputs": [
    {
     "name": "stdout",
     "output_type": "stream",
     "text": [
      "t-test value: 2.57\n",
      "That means that our differense between the samples mean is deviate      from guessed general population mean by 2.57 sigma to the right\n",
      "P-value = 0.014\n",
      "This result is statistically significant\n"
     ]
    }
   ],
   "source": [
    "# Make t-test if we have two samples with:\n",
    "# Is it true that the mean of temperature is different between the molecules\n",
    "from scipy import stats\n",
    "import pandas as pd\n",
    "sample1 = [84.7, 105, 98.9, 97.9, 108.7, 81.3, 99.4, 89.4 , 93, 119.3, 99.2, 99.4, 97.1, 112.4, 99.8, 94.7, 114, 95.1, 115.5, 111.5, 75.1]\n",
    "sample2 = [57.2, 68.6, 104.4, 95.1, 89.9, 70.8, 83.5, 60.1, 75.7, 102, 69, 79.6, 68.9, 98.6, 76, 74.8, 56, 55.6, 55.6, 69.4, 59.5]\n",
    "\n",
    "mean1 = 89.9\n",
    "std1 = 11.3\n",
    "n1 = 20\n",
    "\n",
    "mean2 = 80.7\n",
    "std2 = 11.7\n",
    "n2 = 20\n",
    "\n",
    "t = (mean1-mean2)/((std1**2/n1)+(std1**2/n1))**0.5\n",
    "print('t-test value:', round(t, 2))\n",
    "print('That means that our differense between the samples mean is deviate\\\n",
    "      from guessed general population mean by 2.57 sigma to the right')\n",
    "\n",
    "# Now lets compute the probability of such or much more expressive\n",
    "# deviation if Ho is True\n",
    "\n",
    "df = n1+n2-2    # 38\n",
    "p_value = 2*(1-stats.t.cdf(t, df))\n",
    "print('P-value =', round(p_value, 3))\n",
    "print('This result is statistically significant')"
   ]
  },
  {
   "cell_type": "markdown",
   "id": "b3098391",
   "metadata": {},
   "source": [
    "<p></p>\n",
    "\n",
    "<img src='' style='width: 400px'>\n",
    "<h2></h2>\n",
    "<p></p>\n",
    "<b></b>"
   ]
  },
  {
   "cell_type": "code",
   "execution_count": null,
   "id": "693e1a5b",
   "metadata": {},
   "outputs": [],
   "source": []
  },
  {
   "cell_type": "code",
   "execution_count": null,
   "id": "924532d7",
   "metadata": {},
   "outputs": [],
   "source": [
    " "
   ]
  }
 ],
 "metadata": {
  "kernelspec": {
   "display_name": "Python 3 (ipykernel)",
   "language": "python",
   "name": "python3"
  },
  "language_info": {
   "codemirror_mode": {
    "name": "ipython",
    "version": 3
   },
   "file_extension": ".py",
   "mimetype": "text/x-python",
   "name": "python",
   "nbconvert_exporter": "python",
   "pygments_lexer": "ipython3",
   "version": "3.9.7"
  }
 },
 "nbformat": 4,
 "nbformat_minor": 5
}
