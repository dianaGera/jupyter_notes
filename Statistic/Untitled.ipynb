{
 "cells": [
  {
   "cell_type": "markdown",
   "id": "c9e9d73d",
   "metadata": {},
   "source": [
    "<h1>Comparison of averages</h1>\n",
    "<h2>Student's t-distribution</h2>\n",
    "<p>If the quantity of sample is less then 30 and general mean is not defined, it is used <b>Student's t-distribution</b> in order to describe how the behavior of all of sample means</p>\n",
    "<p>The <b>t-distribution</b> describes the standardized distances of sample means to the population mean when the population standard deviation is not known, and the observations come from a normally distributed population.</p>\n",
    "<p>A t-distribution is defined by one parameter, that is, <b>degrees of freedom</b> (df = n - 1). With increase of df (that means increase quantity of samples) value the distribution tends to normal</p>\n",
    "<img src='img/t-distr.webp' style='width: 400px'>\n",
    "<img src='https://www.gstatic.com/education/formulas2/443397389/en/student_s_t_distribution.svg'>\n",
    "<p style='text-align: center'>\n",
    "t\t=\tStudent's t-distribution<br>\n",
    "x\t=\tsample mean<br>\n",
    "mu\t=\tpopulation mean<br>\n",
    "s\t=\tsample standard deviation<br>\n",
    "n\t=\tsample size</p>\n",
    "<img src='img/t-table.png' style='width: 600px'>\n",
    "\n",
    "<img src='' style='width: 400px'>\n",
    "<h2></h2>\n",
    "<p></p>\n",
    "<b></b>"
   ]
  },
  {
   "cell_type": "code",
   "execution_count": 8,
   "id": "c421d676",
   "metadata": {},
   "outputs": [
    {
     "name": "stdout",
     "output_type": "stream",
     "text": [
      "0.0569398499365914\n",
      "0.045500263896358195\n",
      "0.06528795288911197\n"
     ]
    }
   ],
   "source": [
    "# Lets imagine we have some sample with:\n",
    "import scipy.stats as st\n",
    "import numpy as np\n",
    "length = 25\n",
    "std = 2\n",
    "mn = 10.8\n",
    "\n",
    "# and we know that in general variance the mean is:\n",
    "g_mean = 10\n",
    "\n",
    "# Commonly we could cumpute the standard error firslty, \n",
    "# and then compute how far away our mean deviate\n",
    "# from general mean using the z-score \n",
    "\n",
    "se = std/(length**0.5)     # 0.4\n",
    "\n",
    "z = (mn-g_mean)/se           # 2 quantity of std\n",
    "# It means that we get deviation from supposed mean \n",
    "# by 2 standart deviation on right side\n",
    "\n",
    "# So now lets compute the probability of getting such or\n",
    "# more expressive deviation\n",
    "\n",
    "df = length - 1            # quantity degree of freedom\n",
    "\n",
    "print(2*(1-st.t.cdf(z, df))) # по t-распределению\n",
    "print(2*(1-st.norm.cdf(z))) # по нормальному распределению\n",
    "\n",
    "\n",
    "#Если на выборке в 15 наблюдений при помощи одновыборочного \n",
    "#t-теста проверяется нулевая гипотеза: \\mu=10μ=10 \n",
    "#и рассчитанное t-значение равняется -2 (t = -2), \n",
    "#то p-уровень значимости  (двусторонний) равен:\n",
    "\n",
    "n = 15 #наблюдений в выборке\n",
    "tt = -2 # t-значение\n",
    "\n",
    "pval = st.t.sf(np.abs(tt), n-1)*2\n",
    "print(pval)"
   ]
  },
  {
   "cell_type": "markdown",
   "id": "55202c60",
   "metadata": {},
   "source": []
  },
  {
   "cell_type": "markdown",
   "id": "8101cc45",
   "metadata": {},
   "source": []
  },
  {
   "cell_type": "markdown",
   "id": "b3098391",
   "metadata": {},
   "source": []
  },
  {
   "cell_type": "code",
   "execution_count": null,
   "id": "693e1a5b",
   "metadata": {},
   "outputs": [],
   "source": []
  }
 ],
 "metadata": {
  "kernelspec": {
   "display_name": "Python 3 (ipykernel)",
   "language": "python",
   "name": "python3"
  },
  "language_info": {
   "codemirror_mode": {
    "name": "ipython",
    "version": 3
   },
   "file_extension": ".py",
   "mimetype": "text/x-python",
   "name": "python",
   "nbconvert_exporter": "python",
   "pygments_lexer": "ipython3",
   "version": "3.9.7"
  }
 },
 "nbformat": 4,
 "nbformat_minor": 5
}
