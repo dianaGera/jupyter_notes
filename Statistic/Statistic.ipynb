{
 "cells": [
  {
   "cell_type": "markdown",
   "id": "224c89b1",
   "metadata": {},
   "source": [
    "<h1>Introduction to Statistic</h1>\n",
    "<h2>General population and sample</h2>\n",
    "<p><b>General population</b> The entire population of individuals with a characteristic of interest, such as a particular disease or condition of clinical concern. It is differentiated from the subject sample chosen from that population for a particular study.</p>\n",
    "<p><b>Representative sample</b> is a subset of a population that seeks to accurately reflect the characteristics of the larger group. </p>\n",
    "<p><b>Simple random sampling</b> is a type of probability sampling in which the researcher randomly selects a subset of participants from a population. Each member of the population has an equal chance of being selected. Data is then collected from as large a percentage as possible of this random subset.</p>\n",
    "<p><b>Stratified random sampling</b> is a method of sampling that involves the division of a population into smaller sub-groups known as strata. In stratified random sampling, or stratification, the strata are formed based on members' shared attributes or characteristics such as income or educational attainment.</p>\n",
    "<p>In <b>cluster sampling</b>, researchers divide a population into smaller groups known as clusters. They then randomly select among these clusters to form a sample. Cluster sampling is a method of probability sampling that is often used to study large populations, particularly those that are widely geographically dispersed.</p>\n",
    "\n",
    "<h2>Variable types. Quantitative and qualitative variables</h2>\n",
    "<p>When we shape the sample we are interesting to get some information from general sample and during this proses we will face with couple of variables types such as <b>quantitative and qualitative</b><p>\n",
    "<p>Nominal data is classified without a natural order or rank, whereas ordinal data has a predetermined or natural order. On the other hand, numerical or quantitative data will always be a number that can be measured.</p>\n",
    "<p><b>Quantitative variables</b> divide into <b>continuous</b> (any value) and <b>discrete</b> (any value with specific predictable value (quantity of children in family))</p>\n",
    "<p><b>Qualitative variables</b> divide into a <b>nominal variable</b> that is a type of variable that is used to name, label or categorize particular attributes that are being measured. <b>Rang</b> variable contains an information about some measure, for example class of hotel </p>\n",
    "\n",
    "<h2>Frequency Distributions and Histograms</h2>\n",
    "<p>A <b>frequency histogram</b> is a graphical version of a frequency distribution where the width and position of rectangles are used to indicate the various classes, with the heights of those rectangles indicating the frequency with which data fell into the associated class, as the example below suggests.</p>\n",
    "<img src='img/histogram.png' style='width: 400px;'>\n",
    "<p><b>Descriptive statistics</b> are used to describe or summarize the characteristics of a sample or data set, such as a variable's mean, standard deviation and etc.</p>\n",
    "<p>In probability theory and statistics, a <b>probability distribution</b> is the mathematical function that gives the probabilities of occurrence of different possible outcomes for an experiment. It is a mathematical description of a random phenomenon in terms of its sample space and the probabilities of events.</p>\n",
    "<img src='img/sumbols.png' style='width: 600px'>\n",
    "\n",
    "<h2>Measures of central tendency</h2>\n",
    "<p>The mode is the value that appears most often in a set of data values.</p>\n",
    "<p>The median is the middle number in a sorted, ascending or descending, list of numbers and can be more descriptive of that data set than the average. </p>\n",
    "<img src='img/measure.png' style='width: 400px'>\n",
    "<p>Main mean property: <img src='img/mean.png' style='width: 150px; margin-left: 10px; display: inline; '></p>\n",
    "<p>That means if we have a list with [5, 5, 10, -5, -15, 20, 50] and will try to summarize the \n",
    "deviation from the mean we should get a zero value:</br> (5 - 10) + (5-10) + (10-10) + (-5 + (-10)) + (-15 + (-10)) + (20 - 10) + (50 - 10) = (-5) + (-5) + 0 + (-15) + (-25) + 10 + 40 = 0 </p>\n",
    "\n",
    "<h2>Measures of variability</h2>\n",
    "<p>In statistics, the <b>range</b> of a set of data is the difference between the largest and smallest values. Difference here is specific, the range of a set of data is the result of subtracting the sample maximum and minimum. However, in descriptive statistics, this concept of range has a more complex meaning.</p>\n",
    "<p>To compute the range it is needed to find max and min value and divide them: <img src='https://www.gstatic.com/education/formulas2/397133473/en/range.svg' style='width: 300px; margin-left:20px; display: inline;' ></p>\n",
    "<p>In probability theory and statistics, <b>variance</b> is the expectation of the squared deviation of a random variable from its population mean or sample mean. Variance is a measure of dispersion, meaning it is a measure of how far a set of numbers is spread out from their average value.</p>\n",
    "<img src='https://www.gstatic.com/education/formulas2/397133473/en/sample_variance.svg'>\n",
    "<p>In statistics, the <b>standard deviation</b> is a measure of the amount of variation or dispersion of a set of values.A low standard deviation indicates that the values tend to be close to the mean (also called the expected value) of the set, while a high standard deviation indicates that the values are spread out over a wider range.</p>\n",
    "<p>Properties of standard deviation:</p>\n",
    "<img src='img/sd.png' style='width: 400px'>\n",
    "<h2>Quartile</h2>\n",
    "<p>In statistics, a <b>quartile</b> is a type of quantile which divides the number of data points into four parts, or quarters, of more-or-less equal size. The data must be ordered from smallest to largest to compute quartiles; as such, quartiles are a form of order statistic.</p>\n",
    "<p>In descriptive statistics, a box plot or boxplot is a method for graphically demonstrating the locality, spread and skewness groups of numerical data through their quartiles.</p>\n",
    "<img src='img/quartil.jpg'>\n"
   ]
  },
  {
   "cell_type": "code",
   "execution_count": 6,
   "id": "a8232672",
   "metadata": {
    "scrolled": true
   },
   "outputs": [
    {
     "name": "stdout",
     "output_type": "stream",
     "text": [
      "AxesSubplot(0.125,0.125;0.775x0.755)\n"
     ]
    },
    {
     "data": {
      "image/png": "[encoded data removed]",
      "text/plain": [
       "<Figure size 432x288 with 1 Axes>"
      ]
     },
     "metadata": {
      "needs_background": "light"
     },
     "output_type": "display_data"
    }
   ],
   "source": [
    "import seaborn as sns\n",
    "hights = [\n",
    "    157,159,161,164,165,166,\n",
    "    167,167,167,168,169,169,\n",
    "    170,170,170,171,171,172,\n",
    "    172,172,172,173,173,175,\n",
    "    175,177,178,178,179,185\n",
    "]\n",
    "ax = sns.boxplot(y=hights)\n",
    "ax = sns.swarmplot(y=hights, color=\"red\")\n",
    "print(ax)"
   ]
  },
  {
   "cell_type": "markdown",
   "id": "cd8b781d",
   "metadata": {},
   "source": [
    "<h2>Normal Distribution</h2>\n",
    "<p>Normal distribution, also known as the Gaussian distribution, is a probability distribution that is symmetric about the mean, showing that data near the mean are more frequent in occurrence than data far from the mean. In graph form, normal distribution will appear as a bell curve. Normal distribution in unimodal and symmetric</p>\n",
    "<img src='img/norm_distr.webp'>\n",
    "<img src='https://www.gstatic.com/education/formulas2/397133473/en/normal_distribution.svg'>\n",
    "<h3>Z-score</h3>\n",
    "<p>A z-score, or standard score, is used for standardizing scores on the same scale by dividing a score's deviation by the standard deviation in a data set. The result is a standard score. It measures the number of standard deviations that a given data point is from the mean. A z-score can be negative or positive.</p>\n",
    "<img src='img/z-score.png' style='width: 200px'>\n",
    "<p>There is an example of z-score usage:<br>\n",
    "Imagine that you can enter the university by passing one of two tests (SAT and ACT, and different scales are used for assessment). Served 4000 students with SAT and 4000 students with ACT:<br>\n",
    "\n",
    "mean SAT = 1255, std = 72<br>\n",
    "mean ACT = 28.3, std = 2.4<br>\n",
    "\n",
    "And now imagine that we have to choose between two students who took two different tests:\n",
    "The first has SAT = 1228, and the second has ACT = 27; how to normalize (standardize) them?\n",
    "\n",
    "This is where z-value comes to the rescue:<br>\n",
    "1 student: (1228-1255)/72 = -0.375<br>\n",
    "2nd student: (27-28.3)/2.4 = -0.542<br>\n",
    "\n",
    "It can be seen that the value of the first student lies closer to the average for his population than the value of the second to his population, namely, for the first student, his score deviates less to the left from the average than the score of the second. So (ceteris paribus) preference will be given to the first student</p>\n"
   ]
  },
  {
   "cell_type": "code",
   "execution_count": 23,
   "id": "8d98aa19",
   "metadata": {
    "scrolled": false
   },
   "outputs": [
    {
     "name": "stdout",
     "output_type": "stream",
     "text": [
      "[-1.21, -1.066, -0.922, -0.346, -0.346, -0.13, 0.23, 0.951, 1.023, 1.815]\n",
      "<seaborn.axisgrid.FacetGrid object at 0x7f14e4f240d0>\n"
     ]
    },
    {
     "data": {
      "image/png": "[encoded data removed]",
      "text/plain": [
       "<Figure size 360x360 with 1 Axes>"
      ]
     },
     "metadata": {
      "needs_background": "light"
     },
     "output_type": "display_data"
    }
   ],
   "source": [
    "import numpy as np\n",
    "import seaborn as sns\n",
    "import pandas as pd\n",
    "toll = [165, 205, 175, 194, 163, 183, 175, 178, 167, 193]\n",
    "z = list()\n",
    "for i in sorted(toll):\n",
    "    z.append(float('{:.3f}'.format((i-np.mean(toll))/np.std(toll, ddof=1))))\n",
    "\n",
    "chart = sns.catplot(data=pd.DataFrame([z, toll]), x=z, y=toll)\n",
    "print(z)\n",
    "print(chart)\n"
   ]
  },
  {
   "cell_type": "markdown",
   "id": "1f5a8bc1",
   "metadata": {},
   "source": [
    "<br><br><br><br>\n",
    "<img src='img/z-score-02.png' style='width: 700px'>\n"
   ]
  },
  {
   "cell_type": "code",
   "execution_count": 18,
   "id": "3e3b2f29",
   "metadata": {
    "scrolled": true
   },
   "outputs": [
    {
     "name": "stdout",
     "output_type": "stream",
     "text": [
      "30.85%\n"
     ]
    }
   ],
   "source": [
    "# Let's imagine we have some array with 154 mean, standard deviation 8 \n",
    "# and would like to know what percentage of observations exceeds 154. \n",
    "# To solve this problem we need to transform this number into z-score \n",
    "# value and use z-table to find the probability score\n",
    "\n",
    "import scipy.stats as st\n",
    "\n",
    "point = 154\n",
    "mean = 150\n",
    "std = 8\n",
    "\n",
    "z = (point - mean) / std\n",
    "if point > mean:\n",
    "    #Cumulative distribution function\n",
    "    probability_of_point = (1 - st.norm.cdf(z))\n",
    "else:\n",
    "    probability_of_point = (st.norm.cdf(z))\n",
    "    \n",
    "print(f'{round(probability_of_point*100, 2)}%')"
   ]
  },
  {
   "cell_type": "code",
   "execution_count": 36,
   "id": "7d4ac721",
   "metadata": {},
   "outputs": [
    {
     "name": "stdout",
     "output_type": "stream",
     "text": [
      "4.78%\n",
      "76.54%\n"
     ]
    }
   ],
   "source": [
    "# It is believed that the value of IQ (intelligence level) in humans has a normal distribution\n",
    "# with a mean of 100 and a standard deviation of 15 (M = 100, sd = 15).\n",
    "# Approximately what percentage of people have an IQ > 125?\n",
    "\n",
    "import scipy.stats as st\n",
    "\n",
    "m = 100\n",
    "d = 15\n",
    "q = 125\n",
    "\n",
    "z_point = (125-100)/15\n",
    "pr = (1 - st.norm.cdf(z_point))\n",
    "print(f'{pr*100:.2f}%')\n",
    "\n",
    "\n",
    "# Approximately what percentage of people who have an IQ between 70 and 112?\n",
    "array = [70, 112]\n",
    "z_point1 = (array[0]-m)/d\n",
    "z_point2 = (array[1]-m)/d\n",
    "pr = (st.norm.cdf(z_point2) - st.norm.cdf(z_point1))\n",
    "print(f'{pr*100:.2f}%')"
   ]
  },
  {
   "cell_type": "markdown",
   "id": "2e897816",
   "metadata": {},
   "source": [
    "<h3>Central limit theorem</h3>\n",
    "<p>In probability theory, the <b>central limit theorem</b> establishes that, in many situations, when independent random variables are summed up, their properly normalized sum tends toward a normal distribution even if the original variables themselves are not normally distributed. </p>\n",
    "<h3>Standard error</h3>\n",
    "<p>The standard error of a statistic is the standard deviation of its sampling distribution or an estimate of that standard deviation. If the statistic is the sample mean, it is called the standard error of the mean.</p>\n",
    "<img src='https://www.gstatic.com/education/formulas2/397133473/en/standard_error.svg'>\n",
    "\n",
    "<h2>Confidence interval</h2>\n",
    "<p>In frequentist statistics, a <b>confidence interval (CI)</b> is a range of estimates for an unknown parameter. A confidence interval is computed at a designated confidence level. The 95% level is most common, but other levels (such as 90% or 99%) are sometimes used. The confidence level represents the long-run proportion of correspondingly computed intervals that end up containing the true value of the parameter. For example, out of all confidence intervals computed at the 95% level, 95% of them should contain the parameter's true value.</p>\n",
    "<img src='https://www.gstatic.com/education/formulas2/397133473/en/confidence_interval_formula.svg'>\n",
    "<p style='text-align: center'>\n",
    "CI\t=\tconfidence interval <br>\n",
    "x\t=\tsample mean<br>\n",
    "z\t=\tconfidence level value (<b>1.96 sigma 95% or 2.58 sigma 99%</b>)<br>\n",
    "s\t=\tsample standard deviation<br>\n",
    "n\t=\tsample size<br>\n",
    "</p>\n"
   ]
  },
  {
   "cell_type": "code",
   "execution_count": 46,
   "id": "ea33e509",
   "metadata": {
    "scrolled": true
   },
   "outputs": [
    {
     "name": "stdout",
     "output_type": "stream",
     "text": [
      "DescribeResult(nobs=64, minmax=(88, 107), mean=100.0, variance=19.80952380952381, skewness=-0.6434381992110155, kurtosis=-0.024161735700197084)\n",
      "Confidence interval is 101.71456225515284 --- 103.48543774484715\n",
      "Confidence interval is 98.01226400159307 --- 101.58773599840693\n"
     ]
    }
   ],
   "source": [
    "import scipy.stats as st\n",
    "import random\n",
    "\n",
    "# General sample\n",
    "gs = [102,91,99,100,103,98,99,101,106,88,103,97,103,101,101,91,104,105,105,100,101,91,99,98,107,102,\n",
    "100,97,98,104,100,98,102,99,95,103,104,97,99,102,98,107,101,93,98,101,93,91,107,102,96,93,100,105,\n",
    "103,107,99,102,106,102,94,104,103,102]\n",
    "\n",
    "print(st.describe(x))\n",
    "\n",
    "g_mean = np.mean(x)     # 100\n",
    "g_std = np.std(x)       # 4.14\n",
    "z = 1.96                # confidence level value\n",
    "\n",
    "# Representative sample\n",
    "ps = random.choices(gs, k=10)\n",
    "p_mean = np.mean(ps)\n",
    "p_std = np.std(ps)\n",
    "p_cip = p_mean + z * (p_std/(len(ps)**0.5))\n",
    "p_cim = p_mean - z * (p_std/(len(ps)**0.5))\n",
    "print('Confidence interval is', p_cim, '---', p_cip)\n",
    "\n",
    "\n",
    "# Lineral sample\n",
    "ls = gs[9:19]\n",
    "l_mean = np.mean(ls)\n",
    "l_std = np.std(ls)\n",
    "\n",
    "l_cip = l_mean + z * (l_std/(len(ls)**0.5))\n",
    "l_cim = l_mean - z * (l_std/(len(ls)**0.5))\n",
    "print('Confidence interval is', l_cim, '---', l_cip)\n"
   ]
  },
  {
   "cell_type": "markdown",
   "id": "c7a5eb25",
   "metadata": {},
   "source": [
    "<h2>P-value</h2>\n",
    "<p>A <b>p-value</b> is a statistical measurement used to validate a hypothesis against observed data. A p-value measures the probability of obtaining the observed results, assuming that the null hypothesis is true. The lower the p-value, the greater the statistical significance of the observed difference.</p>\n",
    "<p>A p-value of 0.05 or lower is generally considered statistically significant.\n",
    "P-value can serve as an alternative to or in addition to preselected confidence levels for <b>hypothesis testing</b>.</p><br>\n",
    "<div style='display: flex'>\n",
    "    <img src='img/p-value1.png' style='width: 200px'>\n",
    "    <img src='img/p-value.png' style='width: 400px'>\n",
    "</div>\n"
   ]
  },
  {
   "cell_type": "code",
   "execution_count": null,
   "id": "d56fd3ef",
   "metadata": {},
   "outputs": [],
   "source": [
    "# Lets imagine that we are tasting some pills\n",
    "# initial condition that we have is that:\n",
    "mean = 20\n",
    "length = 64\n",
    "\n",
    "# We are testing new pill that shows such results:\n",
    "mean_x = 18.5\n",
    "std = 4\n",
    "\n",
    "# Is it possible that pill are really usefull or it is just in standard range\n",
    "# So now we have two hipotesis\n",
    "# Ho where mean_x = 20\n",
    "# H1 where mean_x != 20\n",
    "\n",
    "# Now lets find standard error\n",
    "se = std/length**0.5\n",
    "z_score = (mean_x-mean)/se\n",
    "\n",
    "print(z_score/100)      # -3 It means that if in general population the \n",
    "                        # mean value was really equal 20, then our sample mean\n",
    "                        # would deviate from general mean by -3 sigma\n",
    "        \n",
    "ci = mean_x + 1.96 * (std/length**0.5)\n",
    "cim = mean_x - 1.96 * (std/length**0.5)\n",
    "print('Confident interval', cim, '--', ci)    # 20 is not in confident interval"
   ]
  },
  {
   "cell_type": "code",
   "execution_count": 1,
   "id": "5d3e4994",
   "metadata": {},
   "outputs": [
    {
     "name": "stdout",
     "output_type": "stream",
     "text": [
      "-0.04\n"
     ]
    },
    {
     "ename": "NameError",
     "evalue": "name 'stats' is not defined",
     "output_type": "error",
     "traceback": [
      "\u001b[0;31m---------------------------------------------------------------------------\u001b[0m",
      "\u001b[0;31mNameError\u001b[0m                                 Traceback (most recent call last)",
      "Input \u001b[0;32mIn [1]\u001b[0m, in \u001b[0;36m<cell line: 19>\u001b[0;34m()\u001b[0m\n\u001b[1;32m     16\u001b[0m n \u001b[38;5;241m=\u001b[39m \u001b[38;5;241m15\u001b[39m \u001b[38;5;66;03m#наблюдений в выборке\u001b[39;00m\n\u001b[1;32m     17\u001b[0m tt \u001b[38;5;241m=\u001b[39m \u001b[38;5;241m-\u001b[39m\u001b[38;5;241m2\u001b[39m \u001b[38;5;66;03m# t-значение\u001b[39;00m\n\u001b[0;32m---> 19\u001b[0m pval \u001b[38;5;241m=\u001b[39m \u001b[43mstats\u001b[49m\u001b[38;5;241m.\u001b[39mt\u001b[38;5;241m.\u001b[39msf(np\u001b[38;5;241m.\u001b[39mabs(tt), n\u001b[38;5;241m-\u001b[39m\u001b[38;5;241m1\u001b[39m)\u001b[38;5;241m*\u001b[39m\u001b[38;5;241m2\u001b[39m\n",
      "\u001b[0;31mNameError\u001b[0m: name 'stats' is not defined"
     ]
    }
   ],
   "source": [
    "#On average, participants in an introduction to statistics \n",
    "#course score 115 points, however, in 2015, the average score \n",
    "#of a randomly selected 144 participants was 118 with a standard \n",
    "#deviation of 9. Calculate the p level of significance to test \n",
    "#the null hypothesis that the mean score in 2015 is 115.\n",
    "\n",
    "mean = 118\n",
    "std = 9\n",
    "l = 144\n",
    "\n",
    "q = 115\n",
    "\n",
    "z = (115 - 118) /(std/l**0.5)\n",
    "print(z/100)   n "
   ]
  },
  {
   "cell_type": "code",
   "execution_count": null,
   "id": "6851ff16",
   "metadata": {},
   "outputs": [],
   "source": []
  }
 ],
 "metadata": {
  "kernelspec": {
   "display_name": "Python 3 (ipykernel)",
   "language": "python",
   "name": "python3"
  },
  "language_info": {
   "codemirror_mode": {
    "name": "ipython",
    "version": 3
   },
   "file_extension": ".py",
   "mimetype": "text/x-python",
   "name": "python",
   "nbconvert_exporter": "python",
   "pygments_lexer": "ipython3",
   "version": "3.9.7"
  }
 },
 "nbformat": 4,
 "nbformat_minor": 5
}
